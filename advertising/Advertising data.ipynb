{
 "cells": [
  {
   "cell_type": "markdown",
   "metadata": {
    "id": "ga-1j8UjmeOe"
   },
   "source": [
    "# Step 1. Import Dependencies"
   ]
  },
  {
   "cell_type": "code",
   "execution_count": 1,
   "metadata": {
    "executionInfo": {
     "elapsed": 11,
     "status": "ok",
     "timestamp": 1710401006810,
     "user": {
      "displayName": "NILESH NALAWADE",
      "userId": "00676888086056007575"
     },
     "user_tz": -330
    },
    "id": "bhOhRq_LmeOj"
   },
   "outputs": [],
   "source": [
    "import pandas as pd\n",
    "import matplotlib.pyplot as plt\n",
    "import numpy as np\n",
    "import seaborn as sns\n",
    "from sklearn.preprocessing import StandardScaler\n",
    "from scipy.stats import skew\n",
    "from sklearn.metrics import confusion_matrix, accuracy_score\n",
    "from sklearn.metrics import r2_score, mean_squared_error\n",
    "import numpy as np\n",
    "# from utility import check_missing_value\n",
    "\n",
    "import warnings\n",
    "warnings.filterwarnings(\"ignore\")\n",
    "\n",
    "%matplotlib inline"
   ]
  },
  {
   "cell_type": "markdown",
   "metadata": {
    "id": "ab9tvPdqmeOm"
   },
   "source": [
    "# Step 2. Import Data"
   ]
  },
  {
   "cell_type": "code",
   "execution_count": 2,
   "metadata": {
    "colab": {
     "base_uri": "https://localhost:8080/",
     "height": 519
    },
    "executionInfo": {
     "elapsed": 1472,
     "status": "ok",
     "timestamp": 1710401009732,
     "user": {
      "displayName": "NILESH NALAWADE",
      "userId": "00676888086056007575"
     },
     "user_tz": -330
    },
    "id": "mcg3Hea5meOm",
    "outputId": "99f3532c-9fd0-48ee-afde-1e5867712df3"
   },
   "outputs": [
    {
     "data": {
      "text/html": [
       "<div>\n",
       "<style scoped>\n",
       "    .dataframe tbody tr th:only-of-type {\n",
       "        vertical-align: middle;\n",
       "    }\n",
       "\n",
       "    .dataframe tbody tr th {\n",
       "        vertical-align: top;\n",
       "    }\n",
       "\n",
       "    .dataframe thead th {\n",
       "        text-align: right;\n",
       "    }\n",
       "</style>\n",
       "<table border=\"1\" class=\"dataframe\">\n",
       "  <thead>\n",
       "    <tr style=\"text-align: right;\">\n",
       "      <th></th>\n",
       "      <th>TV</th>\n",
       "      <th>radio</th>\n",
       "      <th>newspaper</th>\n",
       "      <th>sales</th>\n",
       "    </tr>\n",
       "  </thead>\n",
       "  <tbody>\n",
       "    <tr>\n",
       "      <th>1</th>\n",
       "      <td>230.1</td>\n",
       "      <td>37.8</td>\n",
       "      <td>69.2</td>\n",
       "      <td>22.1</td>\n",
       "    </tr>\n",
       "    <tr>\n",
       "      <th>2</th>\n",
       "      <td>44.5</td>\n",
       "      <td>39.3</td>\n",
       "      <td>45.1</td>\n",
       "      <td>10.4</td>\n",
       "    </tr>\n",
       "    <tr>\n",
       "      <th>3</th>\n",
       "      <td>17.2</td>\n",
       "      <td>45.9</td>\n",
       "      <td>69.3</td>\n",
       "      <td>9.3</td>\n",
       "    </tr>\n",
       "    <tr>\n",
       "      <th>4</th>\n",
       "      <td>151.5</td>\n",
       "      <td>41.3</td>\n",
       "      <td>58.5</td>\n",
       "      <td>18.5</td>\n",
       "    </tr>\n",
       "    <tr>\n",
       "      <th>5</th>\n",
       "      <td>180.8</td>\n",
       "      <td>10.8</td>\n",
       "      <td>58.4</td>\n",
       "      <td>12.9</td>\n",
       "    </tr>\n",
       "    <tr>\n",
       "      <th>6</th>\n",
       "      <td>8.7</td>\n",
       "      <td>48.9</td>\n",
       "      <td>75.0</td>\n",
       "      <td>7.2</td>\n",
       "    </tr>\n",
       "    <tr>\n",
       "      <th>7</th>\n",
       "      <td>57.5</td>\n",
       "      <td>32.8</td>\n",
       "      <td>23.5</td>\n",
       "      <td>11.8</td>\n",
       "    </tr>\n",
       "    <tr>\n",
       "      <th>8</th>\n",
       "      <td>120.2</td>\n",
       "      <td>19.6</td>\n",
       "      <td>11.6</td>\n",
       "      <td>13.2</td>\n",
       "    </tr>\n",
       "    <tr>\n",
       "      <th>9</th>\n",
       "      <td>8.6</td>\n",
       "      <td>2.1</td>\n",
       "      <td>1.0</td>\n",
       "      <td>4.8</td>\n",
       "    </tr>\n",
       "    <tr>\n",
       "      <th>10</th>\n",
       "      <td>199.8</td>\n",
       "      <td>2.6</td>\n",
       "      <td>21.2</td>\n",
       "      <td>10.6</td>\n",
       "    </tr>\n",
       "    <tr>\n",
       "      <th>11</th>\n",
       "      <td>66.1</td>\n",
       "      <td>5.8</td>\n",
       "      <td>24.2</td>\n",
       "      <td>8.6</td>\n",
       "    </tr>\n",
       "    <tr>\n",
       "      <th>12</th>\n",
       "      <td>214.7</td>\n",
       "      <td>24.0</td>\n",
       "      <td>4.0</td>\n",
       "      <td>17.4</td>\n",
       "    </tr>\n",
       "    <tr>\n",
       "      <th>13</th>\n",
       "      <td>23.8</td>\n",
       "      <td>35.1</td>\n",
       "      <td>65.9</td>\n",
       "      <td>9.2</td>\n",
       "    </tr>\n",
       "    <tr>\n",
       "      <th>14</th>\n",
       "      <td>97.5</td>\n",
       "      <td>7.6</td>\n",
       "      <td>7.2</td>\n",
       "      <td>9.7</td>\n",
       "    </tr>\n",
       "    <tr>\n",
       "      <th>15</th>\n",
       "      <td>204.1</td>\n",
       "      <td>32.9</td>\n",
       "      <td>46.0</td>\n",
       "      <td>19.0</td>\n",
       "    </tr>\n",
       "  </tbody>\n",
       "</table>\n",
       "</div>"
      ],
      "text/plain": [
       "       TV  radio  newspaper  sales\n",
       "1   230.1   37.8       69.2   22.1\n",
       "2    44.5   39.3       45.1   10.4\n",
       "3    17.2   45.9       69.3    9.3\n",
       "4   151.5   41.3       58.5   18.5\n",
       "5   180.8   10.8       58.4   12.9\n",
       "6     8.7   48.9       75.0    7.2\n",
       "7    57.5   32.8       23.5   11.8\n",
       "8   120.2   19.6       11.6   13.2\n",
       "9     8.6    2.1        1.0    4.8\n",
       "10  199.8    2.6       21.2   10.6\n",
       "11   66.1    5.8       24.2    8.6\n",
       "12  214.7   24.0        4.0   17.4\n",
       "13   23.8   35.1       65.9    9.2\n",
       "14   97.5    7.6        7.2    9.7\n",
       "15  204.1   32.9       46.0   19.0"
      ]
     },
     "execution_count": 2,
     "metadata": {},
     "output_type": "execute_result"
    }
   ],
   "source": [
    "# read data into a DataFrame\n",
    "\n",
    "df = pd.read_csv('Advertising.csv', index_col=0)\n",
    "df.head(15)"
   ]
  },
  {
   "cell_type": "markdown",
   "metadata": {
    "id": "8wG0aTG4meOn"
   },
   "source": [
    "# Step 3. Data Analysis"
   ]
  },
  {
   "cell_type": "code",
   "execution_count": 3,
   "metadata": {
    "colab": {
     "base_uri": "https://localhost:8080/"
    },
    "executionInfo": {
     "elapsed": 8,
     "status": "ok",
     "timestamp": 1710401009733,
     "user": {
      "displayName": "NILESH NALAWADE",
      "userId": "00676888086056007575"
     },
     "user_tz": -330
    },
    "id": "TOLt4zlymeOo",
    "outputId": "b7ca082d-e936-4e32-9e41-c0249f59a9b9"
   },
   "outputs": [
    {
     "name": "stdout",
     "output_type": "stream",
     "text": [
      "TV           float64\n",
      "radio        float64\n",
      "newspaper    float64\n",
      "sales        float64\n",
      "dtype: object\n"
     ]
    }
   ],
   "source": [
    "print(df.dtypes)"
   ]
  },
  {
   "cell_type": "code",
   "execution_count": 4,
   "metadata": {
    "colab": {
     "base_uri": "https://localhost:8080/"
    },
    "executionInfo": {
     "elapsed": 7,
     "status": "ok",
     "timestamp": 1710401009733,
     "user": {
      "displayName": "NILESH NALAWADE",
      "userId": "00676888086056007575"
     },
     "user_tz": -330
    },
    "id": "IDY1TZTPmeOo",
    "outputId": "d6adb89f-2ac9-401d-d35c-eeceeaf1e2ff"
   },
   "outputs": [
    {
     "name": "stdout",
     "output_type": "stream",
     "text": [
      "(200, 4)\n"
     ]
    }
   ],
   "source": [
    "print(df.shape)"
   ]
  },
  {
   "cell_type": "code",
   "execution_count": 5,
   "metadata": {
    "colab": {
     "base_uri": "https://localhost:8080/",
     "height": 300
    },
    "executionInfo": {
     "elapsed": 6,
     "status": "ok",
     "timestamp": 1710401009733,
     "user": {
      "displayName": "NILESH NALAWADE",
      "userId": "00676888086056007575"
     },
     "user_tz": -330
    },
    "id": "z5qP6rHTmeOp",
    "outputId": "409fbd41-1ec5-49d3-a385-beeeffdf6fe5"
   },
   "outputs": [
    {
     "data": {
      "text/html": [
       "<div>\n",
       "<style scoped>\n",
       "    .dataframe tbody tr th:only-of-type {\n",
       "        vertical-align: middle;\n",
       "    }\n",
       "\n",
       "    .dataframe tbody tr th {\n",
       "        vertical-align: top;\n",
       "    }\n",
       "\n",
       "    .dataframe thead th {\n",
       "        text-align: right;\n",
       "    }\n",
       "</style>\n",
       "<table border=\"1\" class=\"dataframe\">\n",
       "  <thead>\n",
       "    <tr style=\"text-align: right;\">\n",
       "      <th></th>\n",
       "      <th>TV</th>\n",
       "      <th>radio</th>\n",
       "      <th>newspaper</th>\n",
       "      <th>sales</th>\n",
       "    </tr>\n",
       "  </thead>\n",
       "  <tbody>\n",
       "    <tr>\n",
       "      <th>count</th>\n",
       "      <td>200.000000</td>\n",
       "      <td>200.000000</td>\n",
       "      <td>200.000000</td>\n",
       "      <td>200.000000</td>\n",
       "    </tr>\n",
       "    <tr>\n",
       "      <th>mean</th>\n",
       "      <td>147.042500</td>\n",
       "      <td>23.264000</td>\n",
       "      <td>30.554000</td>\n",
       "      <td>14.022500</td>\n",
       "    </tr>\n",
       "    <tr>\n",
       "      <th>std</th>\n",
       "      <td>85.854236</td>\n",
       "      <td>14.846809</td>\n",
       "      <td>21.778621</td>\n",
       "      <td>5.217457</td>\n",
       "    </tr>\n",
       "    <tr>\n",
       "      <th>min</th>\n",
       "      <td>0.700000</td>\n",
       "      <td>0.000000</td>\n",
       "      <td>0.300000</td>\n",
       "      <td>1.600000</td>\n",
       "    </tr>\n",
       "    <tr>\n",
       "      <th>25%</th>\n",
       "      <td>74.375000</td>\n",
       "      <td>9.975000</td>\n",
       "      <td>12.750000</td>\n",
       "      <td>10.375000</td>\n",
       "    </tr>\n",
       "    <tr>\n",
       "      <th>50%</th>\n",
       "      <td>149.750000</td>\n",
       "      <td>22.900000</td>\n",
       "      <td>25.750000</td>\n",
       "      <td>12.900000</td>\n",
       "    </tr>\n",
       "    <tr>\n",
       "      <th>75%</th>\n",
       "      <td>218.825000</td>\n",
       "      <td>36.525000</td>\n",
       "      <td>45.100000</td>\n",
       "      <td>17.400000</td>\n",
       "    </tr>\n",
       "    <tr>\n",
       "      <th>max</th>\n",
       "      <td>296.400000</td>\n",
       "      <td>49.600000</td>\n",
       "      <td>114.000000</td>\n",
       "      <td>27.000000</td>\n",
       "    </tr>\n",
       "  </tbody>\n",
       "</table>\n",
       "</div>"
      ],
      "text/plain": [
       "               TV       radio   newspaper       sales\n",
       "count  200.000000  200.000000  200.000000  200.000000\n",
       "mean   147.042500   23.264000   30.554000   14.022500\n",
       "std     85.854236   14.846809   21.778621    5.217457\n",
       "min      0.700000    0.000000    0.300000    1.600000\n",
       "25%     74.375000    9.975000   12.750000   10.375000\n",
       "50%    149.750000   22.900000   25.750000   12.900000\n",
       "75%    218.825000   36.525000   45.100000   17.400000\n",
       "max    296.400000   49.600000  114.000000   27.000000"
      ]
     },
     "execution_count": 5,
     "metadata": {},
     "output_type": "execute_result"
    }
   ],
   "source": [
    "df.describe()"
   ]
  },
  {
   "cell_type": "code",
   "execution_count": null,
   "metadata": {
    "executionInfo": {
     "elapsed": 5,
     "status": "ok",
     "timestamp": 1710401009733,
     "user": {
      "displayName": "NILESH NALAWADE",
      "userId": "00676888086056007575"
     },
     "user_tz": -330
    },
    "id": "-ctev1ynmeOp"
   },
   "outputs": [],
   "source": []
  },
  {
   "cell_type": "markdown",
   "metadata": {
    "id": "-D3MopW_meOp"
   },
   "source": [
    "# check outliers"
   ]
  },
  {
   "cell_type": "code",
   "execution_count": 6,
   "metadata": {
    "colab": {
     "base_uri": "https://localhost:8080/",
     "height": 447
    },
    "executionInfo": {
     "elapsed": 1444,
     "status": "ok",
     "timestamp": 1710401011173,
     "user": {
      "displayName": "NILESH NALAWADE",
      "userId": "00676888086056007575"
     },
     "user_tz": -330
    },
    "id": "GFPYGj7emeOq",
    "outputId": "3a19441c-beec-47d6-daf3-743e440bac1b"
   },
   "outputs": [
    {
     "data": {
      "text/plain": [
       "<matplotlib.axes._subplots.AxesSubplot at 0x2421cb52848>"
      ]
     },
     "execution_count": 6,
     "metadata": {},
     "output_type": "execute_result"
    },
    {
     "data": {
      "image/png": "[encoded data removed]",
      "text/plain": [
       "<Figure size 432x288 with 1 Axes>"
      ]
     },
     "metadata": {
      "needs_background": "light"
     },
     "output_type": "display_data"
    }
   ],
   "source": [
    "df.boxplot() # we box polot only for continuous numeric data"
   ]
  },
  {
   "cell_type": "markdown",
   "metadata": {
    "id": "tSjsWYXMmeOq"
   },
   "source": [
    "in data frame we have all the varaibles in continous numeric values so we\n",
    "create box plot on all columns by this plot we can se there is no outlier in\n",
    "tv radio but newspaper contain two outliers"
   ]
  },
  {
   "cell_type": "code",
   "execution_count": 7,
   "metadata": {
    "colab": {
     "base_uri": "https://localhost:8080/",
     "height": 447
    },
    "executionInfo": {
     "elapsed": 11,
     "status": "ok",
     "timestamp": 1710401011174,
     "user": {
      "displayName": "NILESH NALAWADE",
      "userId": "00676888086056007575"
     },
     "user_tz": -330
    },
    "id": "RVLVYMJbmeOr",
    "outputId": "7893082c-3787-4e56-ead6-8c90c9a556f6"
   },
   "outputs": [
    {
     "data": {
      "text/plain": [
       "<matplotlib.axes._subplots.AxesSubplot at 0x2421d37d748>"
      ]
     },
     "execution_count": 7,
     "metadata": {},
     "output_type": "execute_result"
    },
    {
     "data": {
      "image/png": "[encoded data removed]",
      "text/plain": [
       "<Figure size 432x288 with 1 Axes>"
      ]
     },
     "metadata": {
      "needs_background": "light"
     },
     "output_type": "display_data"
    }
   ],
   "source": [
    "df.boxplot(column=\"newspaper\")"
   ]
  },
  {
   "cell_type": "code",
   "execution_count": 8,
   "metadata": {
    "executionInfo": {
     "elapsed": 8,
     "status": "ok",
     "timestamp": 1710401011174,
     "user": {
      "displayName": "NILESH NALAWADE",
      "userId": "00676888086056007575"
     },
     "user_tz": -330
    },
    "id": "pq43AyxgmeOr",
    "scrolled": false
   },
   "outputs": [],
   "source": [
    "# above we have 2 outliers they could have been dropped but they are equally important for this model\n",
    "\n",
    "# we can drop outliers this way\n",
    "a=df[df[\"newspaper\"]>=100]\n",
    "df.drop([17,102],inplace=True)\n",
    "\n"
   ]
  },
  {
   "cell_type": "code",
   "execution_count": 9,
   "metadata": {
    "executionInfo": {
     "elapsed": 8,
     "status": "ok",
     "timestamp": 1710401011174,
     "user": {
      "displayName": "NILESH NALAWADE",
      "userId": "00676888086056007575"
     },
     "user_tz": -330
    },
    "id": "nZ_jI1MemeOr"
   },
   "outputs": [],
   "source": [
    "def check_missing_value(data):\n",
    "    \"\"\"\n",
    "    Objective: Check missing value count and percentage in all columns\n",
    "\n",
    "    data: input data frame\n",
    "    return: Missing value data frame\n",
    "\n",
    "    \"\"\"\n",
    "    total = data.isnull().sum().sort_values(ascending=False)\n",
    "    percent= (data.isnull().sum()/data.isnull().count()  * 100).sort_values(ascending=False)\n",
    "    missing_data = pd.concat([total,percent],axis=1,keys=['Total','Percent'])\n",
    "    return missing_data"
   ]
  },
  {
   "cell_type": "code",
   "execution_count": 10,
   "metadata": {
    "colab": {
     "base_uri": "https://localhost:8080/",
     "height": 175
    },
    "executionInfo": {
     "elapsed": 7,
     "status": "ok",
     "timestamp": 1710401011174,
     "user": {
      "displayName": "NILESH NALAWADE",
      "userId": "00676888086056007575"
     },
     "user_tz": -330
    },
    "id": "fDU75SwnmeOr",
    "outputId": "f14784bc-1fd9-4656-98cf-c40c6fd12099"
   },
   "outputs": [
    {
     "data": {
      "text/html": [
       "<div>\n",
       "<style scoped>\n",
       "    .dataframe tbody tr th:only-of-type {\n",
       "        vertical-align: middle;\n",
       "    }\n",
       "\n",
       "    .dataframe tbody tr th {\n",
       "        vertical-align: top;\n",
       "    }\n",
       "\n",
       "    .dataframe thead th {\n",
       "        text-align: right;\n",
       "    }\n",
       "</style>\n",
       "<table border=\"1\" class=\"dataframe\">\n",
       "  <thead>\n",
       "    <tr style=\"text-align: right;\">\n",
       "      <th></th>\n",
       "      <th>Total</th>\n",
       "      <th>Percent</th>\n",
       "    </tr>\n",
       "  </thead>\n",
       "  <tbody>\n",
       "    <tr>\n",
       "      <th>sales</th>\n",
       "      <td>0</td>\n",
       "      <td>0.0</td>\n",
       "    </tr>\n",
       "    <tr>\n",
       "      <th>newspaper</th>\n",
       "      <td>0</td>\n",
       "      <td>0.0</td>\n",
       "    </tr>\n",
       "    <tr>\n",
       "      <th>radio</th>\n",
       "      <td>0</td>\n",
       "      <td>0.0</td>\n",
       "    </tr>\n",
       "    <tr>\n",
       "      <th>TV</th>\n",
       "      <td>0</td>\n",
       "      <td>0.0</td>\n",
       "    </tr>\n",
       "  </tbody>\n",
       "</table>\n",
       "</div>"
      ],
      "text/plain": [
       "           Total  Percent\n",
       "sales          0      0.0\n",
       "newspaper      0      0.0\n",
       "radio          0      0.0\n",
       "TV             0      0.0"
      ]
     },
     "execution_count": 10,
     "metadata": {},
     "output_type": "execute_result"
    }
   ],
   "source": [
    "miss = check_missing_value(df)\n",
    "miss"
   ]
  },
  {
   "cell_type": "code",
   "execution_count": 11,
   "metadata": {
    "colab": {
     "base_uri": "https://localhost:8080/",
     "height": 268
    },
    "executionInfo": {
     "elapsed": 1446,
     "status": "ok",
     "timestamp": 1710401012613,
     "user": {
      "displayName": "NILESH NALAWADE",
      "userId": "00676888086056007575"
     },
     "user_tz": -330
    },
    "id": "GAuMSdE2meOs",
    "outputId": "40f75768-19e0-4184-e009-e302f79767c7"
   },
   "outputs": [
    {
     "data": {
      "image/png": "[encoded data removed]",
      "text/plain": [
       "<Figure size 540x180 with 3 Axes>"
      ]
     },
     "metadata": {
      "needs_background": "light"
     },
     "output_type": "display_data"
    }
   ],
   "source": [
    "sns.pairplot(df,\n",
    "             x_vars=[\"TV\",\"radio\",\"newspaper\"],\n",
    "             y_vars=\"sales\",\n",
    "             kind='reg')\n",
    "\n",
    "plt.show()"
   ]
  },
  {
   "cell_type": "code",
   "execution_count": 12,
   "metadata": {
    "executionInfo": {
     "elapsed": 13,
     "status": "ok",
     "timestamp": 1710401012613,
     "user": {
      "displayName": "NILESH NALAWADE",
      "userId": "00676888086056007575"
     },
     "user_tz": -330
    },
    "id": "xp_SqT_AmeOs"
   },
   "outputs": [],
   "source": [
    "feature_cols = ['TV', 'radio', 'newspaper']\n",
    "X = df[feature_cols]\n",
    "y = df.sales"
   ]
  },
  {
   "cell_type": "code",
   "execution_count": 13,
   "metadata": {
    "colab": {
     "base_uri": "https://localhost:8080/",
     "height": 206
    },
    "executionInfo": {
     "elapsed": 13,
     "status": "ok",
     "timestamp": 1710401012613,
     "user": {
      "displayName": "NILESH NALAWADE",
      "userId": "00676888086056007575"
     },
     "user_tz": -330
    },
    "id": "JnLgWWIwmeOs",
    "outputId": "c90d85e3-a116-4624-bf0b-67c7a56ce664"
   },
   "outputs": [
    {
     "data": {
      "text/html": [
       "<div>\n",
       "<style scoped>\n",
       "    .dataframe tbody tr th:only-of-type {\n",
       "        vertical-align: middle;\n",
       "    }\n",
       "\n",
       "    .dataframe tbody tr th {\n",
       "        vertical-align: top;\n",
       "    }\n",
       "\n",
       "    .dataframe thead th {\n",
       "        text-align: right;\n",
       "    }\n",
       "</style>\n",
       "<table border=\"1\" class=\"dataframe\">\n",
       "  <thead>\n",
       "    <tr style=\"text-align: right;\">\n",
       "      <th></th>\n",
       "      <th>TV</th>\n",
       "      <th>radio</th>\n",
       "      <th>newspaper</th>\n",
       "    </tr>\n",
       "  </thead>\n",
       "  <tbody>\n",
       "    <tr>\n",
       "      <th>1</th>\n",
       "      <td>230.1</td>\n",
       "      <td>37.8</td>\n",
       "      <td>69.2</td>\n",
       "    </tr>\n",
       "    <tr>\n",
       "      <th>2</th>\n",
       "      <td>44.5</td>\n",
       "      <td>39.3</td>\n",
       "      <td>45.1</td>\n",
       "    </tr>\n",
       "    <tr>\n",
       "      <th>3</th>\n",
       "      <td>17.2</td>\n",
       "      <td>45.9</td>\n",
       "      <td>69.3</td>\n",
       "    </tr>\n",
       "    <tr>\n",
       "      <th>4</th>\n",
       "      <td>151.5</td>\n",
       "      <td>41.3</td>\n",
       "      <td>58.5</td>\n",
       "    </tr>\n",
       "    <tr>\n",
       "      <th>5</th>\n",
       "      <td>180.8</td>\n",
       "      <td>10.8</td>\n",
       "      <td>58.4</td>\n",
       "    </tr>\n",
       "  </tbody>\n",
       "</table>\n",
       "</div>"
      ],
      "text/plain": [
       "      TV  radio  newspaper\n",
       "1  230.1   37.8       69.2\n",
       "2   44.5   39.3       45.1\n",
       "3   17.2   45.9       69.3\n",
       "4  151.5   41.3       58.5\n",
       "5  180.8   10.8       58.4"
      ]
     },
     "execution_count": 13,
     "metadata": {},
     "output_type": "execute_result"
    }
   ],
   "source": [
    "X.head()"
   ]
  },
  {
   "cell_type": "code",
   "execution_count": 14,
   "metadata": {
    "colab": {
     "base_uri": "https://localhost:8080/"
    },
    "executionInfo": {
     "elapsed": 12,
     "status": "ok",
     "timestamp": 1710401012613,
     "user": {
      "displayName": "NILESH NALAWADE",
      "userId": "00676888086056007575"
     },
     "user_tz": -330
    },
    "id": "nS4WuvLjmeOs",
    "outputId": "59a94f8c-8ccb-4ed6-dbb3-b31218c93fcc"
   },
   "outputs": [
    {
     "data": {
      "text/plain": [
       "1    22.1\n",
       "2    10.4\n",
       "3     9.3\n",
       "4    18.5\n",
       "5    12.9\n",
       "Name: sales, dtype: float64"
      ]
     },
     "execution_count": 14,
     "metadata": {},
     "output_type": "execute_result"
    }
   ],
   "source": [
    "y.head()"
   ]
  },
  {
   "cell_type": "code",
   "execution_count": null,
   "metadata": {
    "executionInfo": {
     "elapsed": 11,
     "status": "ok",
     "timestamp": 1710401012614,
     "user": {
      "displayName": "NILESH NALAWADE",
      "userId": "00676888086056007575"
     },
     "user_tz": -330
    },
    "id": "zNFILsdLmeOt"
   },
   "outputs": [],
   "source": []
  },
  {
   "cell_type": "code",
   "execution_count": 15,
   "metadata": {
    "executionInfo": {
     "elapsed": 11,
     "status": "ok",
     "timestamp": 1710401012614,
     "user": {
      "displayName": "NILESH NALAWADE",
      "userId": "00676888086056007575"
     },
     "user_tz": -330
    },
    "id": "HCB0vLJDmeOt"
   },
   "outputs": [],
   "source": [
    "# Check the distribution of y"
   ]
  },
  {
   "cell_type": "code",
   "execution_count": 16,
   "metadata": {
    "colab": {
     "base_uri": "https://localhost:8080/",
     "height": 449
    },
    "executionInfo": {
     "elapsed": 11,
     "status": "ok",
     "timestamp": 1710401012614,
     "user": {
      "displayName": "NILESH NALAWADE",
      "userId": "00676888086056007575"
     },
     "user_tz": -330
    },
    "id": "aErB4ZmsmeOt",
    "outputId": "c8bc8a93-30a2-4b16-872b-e4f8f0a2ab08"
   },
   "outputs": [
    {
     "data": {
      "image/png": "[encoded data removed]",
      "text/plain": [
       "<Figure size 432x288 with 1 Axes>"
      ]
     },
     "metadata": {
      "needs_background": "light"
     },
     "output_type": "display_data"
    }
   ],
   "source": [
    "sns.distplot(y, hist=True)\n",
    "plt.show()"
   ]
  },
  {
   "cell_type": "markdown",
   "metadata": {
    "id": "ovq-FXIAmeOt"
   },
   "source": [
    "SALE Variable is meeting the assumption and we can see the approximate normal Distribution"
   ]
  },
  {
   "cell_type": "code",
   "execution_count": 17,
   "metadata": {
    "colab": {
     "base_uri": "https://localhost:8080/",
     "height": 466
    },
    "executionInfo": {
     "elapsed": 10,
     "status": "ok",
     "timestamp": 1710401012614,
     "user": {
      "displayName": "NILESH NALAWADE",
      "userId": "00676888086056007575"
     },
     "user_tz": -330
    },
    "id": "ZhEx8mEjmeOt",
    "outputId": "8c128248-e560-459e-a743-03175857d2bc"
   },
   "outputs": [
    {
     "data": {
      "text/plain": [
       "<matplotlib.axes._subplots.AxesSubplot at 0x2421f652f48>"
      ]
     },
     "execution_count": 17,
     "metadata": {},
     "output_type": "execute_result"
    },
    {
     "data": {
      "image/png": "[encoded data removed]",
      "text/plain": [
       "<Figure size 432x288 with 1 Axes>"
      ]
     },
     "metadata": {
      "needs_background": "light"
     },
     "output_type": "display_data"
    }
   ],
   "source": [
    "#### you can use this code to convert into log transformation\n",
    "Y_log = np.log(y)\n",
    "sns.distplot(Y_log, hist=True)"
   ]
  },
  {
   "cell_type": "code",
   "execution_count": 18,
   "metadata": {
    "colab": {
     "base_uri": "https://localhost:8080/",
     "height": 452
    },
    "executionInfo": {
     "elapsed": 1283,
     "status": "ok",
     "timestamp": 1710401013889,
     "user": {
      "displayName": "NILESH NALAWADE",
      "userId": "00676888086056007575"
     },
     "user_tz": -330
    },
    "id": "DPfSP4qGmeOu",
    "outputId": "8a5ade25-26c2-4d6c-f098-eff45ad4ea52"
   },
   "outputs": [
    {
     "data": {
      "image/png": "[encoded data removed]",
      "text/plain": [
       "<Figure size 432x288 with 4 Axes>"
      ]
     },
     "metadata": {
      "needs_background": "light"
     },
     "output_type": "display_data"
    }
   ],
   "source": [
    "# check hist for all variables\n",
    "X.hist(bins=20)\n",
    "plt.show()"
   ]
  },
  {
   "cell_type": "code",
   "execution_count": 19,
   "metadata": {
    "colab": {
     "base_uri": "https://localhost:8080/"
    },
    "executionInfo": {
     "elapsed": 18,
     "status": "ok",
     "timestamp": 1710401013889,
     "user": {
      "displayName": "NILESH NALAWADE",
      "userId": "00676888086056007575"
     },
     "user_tz": -330
    },
    "id": "TFoJYd2jmeOu",
    "outputId": "d643fb4f-27c6-48cf-c9a1-0bcb297f209e"
   },
   "outputs": [
    {
     "name": "stdout",
     "output_type": "stream",
     "text": [
      "TV          -0.081707\n",
      "radio        0.113970\n",
      "newspaper    0.645176\n",
      "dtype: float64\n",
      "Series([], dtype: float64)\n"
     ]
    }
   ],
   "source": [
    "data_num_skew = X.apply(lambda x: skew(x.dropna()))\n",
    "data_num_skewed = data_num_skew[(data_num_skew > 0.75) | (data_num_skew < -0.75)]\n",
    "\n",
    "print(data_num_skew)\n",
    "print(data_num_skewed)"
   ]
  },
  {
   "cell_type": "code",
   "execution_count": 20,
   "metadata": {
    "executionInfo": {
     "elapsed": 17,
     "status": "ok",
     "timestamp": 1710401013889,
     "user": {
      "displayName": "NILESH NALAWADE",
      "userId": "00676888086056007575"
     },
     "user_tz": -330
    },
    "id": "4e0rd62dmeOu"
   },
   "outputs": [],
   "source": [
    "# apply log + 1 transformation for all numeric featreus with Skewness over 0.75\n",
    "\n",
    "X[data_num_skewed.index] = np.log1p(X[data_num_skewed.index])"
   ]
  },
  {
   "cell_type": "code",
   "execution_count": 21,
   "metadata": {
    "colab": {
     "base_uri": "https://localhost:8080/",
     "height": 452
    },
    "executionInfo": {
     "elapsed": 17,
     "status": "ok",
     "timestamp": 1710401013889,
     "user": {
      "displayName": "NILESH NALAWADE",
      "userId": "00676888086056007575"
     },
     "user_tz": -330
    },
    "id": "789fxfnAmeOu",
    "outputId": "ec5595ae-6ed6-4496-d900-ace4dee4d652"
   },
   "outputs": [
    {
     "data": {
      "image/png": "[encoded data removed]",
      "text/plain": [
       "<Figure size 432x288 with 4 Axes>"
      ]
     },
     "metadata": {
      "needs_background": "light"
     },
     "output_type": "display_data"
    }
   ],
   "source": [
    "# check hist for all variables after log transform of newspaper\n",
    "X.hist(bins=20)\n",
    "plt.show()"
   ]
  },
  {
   "cell_type": "code",
   "execution_count": null,
   "metadata": {
    "executionInfo": {
     "elapsed": 16,
     "status": "ok",
     "timestamp": 1710401013890,
     "user": {
      "displayName": "NILESH NALAWADE",
      "userId": "00676888086056007575"
     },
     "user_tz": -330
    },
    "id": "2BiinbmsmeOu"
   },
   "outputs": [],
   "source": []
  },
  {
   "cell_type": "code",
   "execution_count": 22,
   "metadata": {
    "colab": {
     "base_uri": "https://localhost:8080/"
    },
    "executionInfo": {
     "elapsed": 16,
     "status": "ok",
     "timestamp": 1710401013890,
     "user": {
      "displayName": "NILESH NALAWADE",
      "userId": "00676888086056007575"
     },
     "user_tz": -330
    },
    "id": "_Z4c1HAzmeOu",
    "outputId": "6b56ac1b-636f-440c-9a0a-f99e80172680"
   },
   "outputs": [
    {
     "name": "stdout",
     "output_type": "stream",
     "text": [
      "                 TV     radio  newspaper\n",
      "TV         1.000000  0.051978   0.049771\n",
      "radio      0.051978  1.000000   0.346364\n",
      "newspaper  0.049771  0.346364   1.000000\n"
     ]
    }
   ],
   "source": [
    "# Checking colinearity\n",
    "\n",
    "corr_df = X.corr(method=\"pearson\")\n",
    "print(corr_df)"
   ]
  },
  {
   "cell_type": "markdown",
   "metadata": {
    "id": "0bxbUFLAmeOv"
   },
   "source": [
    "# Check VIF"
   ]
  },
  {
   "cell_type": "markdown",
   "metadata": {
    "id": "B6du7ya-meOv"
   },
   "source": [
    "- Sometimes the correlation matrix alone will not help you to check the multicolinearity so you can use VIF"
   ]
  },
  {
   "cell_type": "code",
   "execution_count": 23,
   "metadata": {
    "colab": {
     "base_uri": "https://localhost:8080/",
     "height": 143
    },
    "executionInfo": {
     "elapsed": 15,
     "status": "ok",
     "timestamp": 1710401013890,
     "user": {
      "displayName": "NILESH NALAWADE",
      "userId": "00676888086056007575"
     },
     "user_tz": -330
    },
    "id": "lObHvgE4meOv",
    "outputId": "1d3b07c2-060e-49b2-c4f7-2d635e5a6992"
   },
   "outputs": [
    {
     "data": {
      "text/html": [
       "<div>\n",
       "<style scoped>\n",
       "    .dataframe tbody tr th:only-of-type {\n",
       "        vertical-align: middle;\n",
       "    }\n",
       "\n",
       "    .dataframe tbody tr th {\n",
       "        vertical-align: top;\n",
       "    }\n",
       "\n",
       "    .dataframe thead th {\n",
       "        text-align: right;\n",
       "    }\n",
       "</style>\n",
       "<table border=\"1\" class=\"dataframe\">\n",
       "  <thead>\n",
       "    <tr style=\"text-align: right;\">\n",
       "      <th></th>\n",
       "      <th>features</th>\n",
       "      <th>VIF Factor</th>\n",
       "    </tr>\n",
       "  </thead>\n",
       "  <tbody>\n",
       "    <tr>\n",
       "      <th>0</th>\n",
       "      <td>TV</td>\n",
       "      <td>2.50</td>\n",
       "    </tr>\n",
       "    <tr>\n",
       "      <th>1</th>\n",
       "      <td>radio</td>\n",
       "      <td>3.28</td>\n",
       "    </tr>\n",
       "    <tr>\n",
       "      <th>2</th>\n",
       "      <td>newspaper</td>\n",
       "      <td>3.13</td>\n",
       "    </tr>\n",
       "  </tbody>\n",
       "</table>\n",
       "</div>"
      ],
      "text/plain": [
       "    features  VIF Factor\n",
       "0         TV        2.50\n",
       "1      radio        3.28\n",
       "2  newspaper        3.13"
      ]
     },
     "execution_count": 23,
     "metadata": {},
     "output_type": "execute_result"
    }
   ],
   "source": [
    "from statsmodels.stats.outliers_influence import variance_inflation_factor as vif\n",
    "\n",
    "vif_df = pd.DataFrame()\n",
    "vif_df[\"features\"] = X.columns\n",
    "vif_df[\"VIF Factor\"] = [vif(X.values, i) for i in range(X.shape[1])]\n",
    "vif_df.round(2)"
   ]
  },
  {
   "cell_type": "code",
   "execution_count": null,
   "metadata": {
    "executionInfo": {
     "elapsed": 14,
     "status": "ok",
     "timestamp": 1710401013890,
     "user": {
      "displayName": "NILESH NALAWADE",
      "userId": "00676888086056007575"
     },
     "user_tz": -330
    },
    "id": "qQqFSryumeOv"
   },
   "outputs": [],
   "source": []
  },
  {
   "cell_type": "code",
   "execution_count": 24,
   "metadata": {
    "executionInfo": {
     "elapsed": 14,
     "status": "ok",
     "timestamp": 1710401013890,
     "user": {
      "displayName": "NILESH NALAWADE",
      "userId": "00676888086056007575"
     },
     "user_tz": -330
    },
    "id": "eLAPIvDBmeOv"
   },
   "outputs": [],
   "source": [
    "from sklearn.model_selection import train_test_split\n",
    "\n",
    "# > 1000 --> TEST SIZE = 0.3\n",
    "# < 1000 --> TEST SIZE = 0.2\n",
    "\n",
    "#Split the data into test and train\n",
    "X_train, X_test, y_train, y_test = train_test_split(X,\n",
    "                                                    y,\n",
    "                                                    test_size=0.2,\n",
    "                                                    random_state=10)"
   ]
  },
  {
   "cell_type": "code",
   "execution_count": 25,
   "metadata": {
    "colab": {
     "base_uri": "https://localhost:8080/"
    },
    "executionInfo": {
     "elapsed": 14,
     "status": "ok",
     "timestamp": 1710401013890,
     "user": {
      "displayName": "NILESH NALAWADE",
      "userId": "00676888086056007575"
     },
     "user_tz": -330
    },
    "id": "tytR1WgUmeOw",
    "outputId": "60a930b7-6b95-4958-9203-72dd2b3dd325"
   },
   "outputs": [
    {
     "data": {
      "text/plain": [
       "(198, 4)"
      ]
     },
     "execution_count": 25,
     "metadata": {},
     "output_type": "execute_result"
    }
   ],
   "source": [
    "df.shape"
   ]
  },
  {
   "cell_type": "code",
   "execution_count": 26,
   "metadata": {
    "colab": {
     "base_uri": "https://localhost:8080/"
    },
    "executionInfo": {
     "elapsed": 12,
     "status": "ok",
     "timestamp": 1710401013890,
     "user": {
      "displayName": "NILESH NALAWADE",
      "userId": "00676888086056007575"
     },
     "user_tz": -330
    },
    "id": "pWnungbHmeOw",
    "outputId": "6d22d46d-0b32-4797-b384-61743c607b70"
   },
   "outputs": [
    {
     "name": "stdout",
     "output_type": "stream",
     "text": [
      "(158, 3)\n",
      "(158,)\n",
      "(40, 3)\n",
      "(40,)\n"
     ]
    }
   ],
   "source": [
    "print(X_train.shape)\n",
    "print(y_train.shape)\n",
    "print(X_test.shape)\n",
    "print(y_test.shape)"
   ]
  },
  {
   "cell_type": "code",
   "execution_count": 27,
   "metadata": {
    "executionInfo": {
     "elapsed": 12,
     "status": "ok",
     "timestamp": 1710401013891,
     "user": {
      "displayName": "NILESH NALAWADE",
      "userId": "00676888086056007575"
     },
     "user_tz": -330
    },
    "id": "TUrjwA85meOw"
   },
   "outputs": [],
   "source": [
    "from sklearn.preprocessing import StandardScaler, MinMaxScaler\n",
    "\n",
    "scaler = MinMaxScaler()\n",
    "\n",
    "scaler.fit(X_train)\n",
    "\n",
    "X_train_scale = scaler.transform(X_train)\n",
    "X_test_scale = scaler.transform(X_test)\n"
   ]
  },
  {
   "cell_type": "code",
   "execution_count": 28,
   "metadata": {
    "colab": {
     "base_uri": "https://localhost:8080/",
     "height": 423
    },
    "executionInfo": {
     "elapsed": 12,
     "status": "ok",
     "timestamp": 1710401013891,
     "user": {
      "displayName": "NILESH NALAWADE",
      "userId": "00676888086056007575"
     },
     "user_tz": -330
    },
    "id": "Slv8C1nOmeO0",
    "outputId": "7592b045-46aa-4c3c-809e-81e0fdce1788"
   },
   "outputs": [
    {
     "data": {
      "text/html": [
       "<div>\n",
       "<style scoped>\n",
       "    .dataframe tbody tr th:only-of-type {\n",
       "        vertical-align: middle;\n",
       "    }\n",
       "\n",
       "    .dataframe tbody tr th {\n",
       "        vertical-align: top;\n",
       "    }\n",
       "\n",
       "    .dataframe thead th {\n",
       "        text-align: right;\n",
       "    }\n",
       "</style>\n",
       "<table border=\"1\" class=\"dataframe\">\n",
       "  <thead>\n",
       "    <tr style=\"text-align: right;\">\n",
       "      <th></th>\n",
       "      <th>TV</th>\n",
       "      <th>radio</th>\n",
       "      <th>newspaper</th>\n",
       "    </tr>\n",
       "  </thead>\n",
       "  <tbody>\n",
       "    <tr>\n",
       "      <th>191</th>\n",
       "      <td>39.5</td>\n",
       "      <td>41.1</td>\n",
       "      <td>5.8</td>\n",
       "    </tr>\n",
       "    <tr>\n",
       "      <th>8</th>\n",
       "      <td>120.2</td>\n",
       "      <td>19.6</td>\n",
       "      <td>11.6</td>\n",
       "    </tr>\n",
       "    <tr>\n",
       "      <th>28</th>\n",
       "      <td>240.1</td>\n",
       "      <td>16.7</td>\n",
       "      <td>22.9</td>\n",
       "    </tr>\n",
       "    <tr>\n",
       "      <th>139</th>\n",
       "      <td>43.0</td>\n",
       "      <td>25.9</td>\n",
       "      <td>20.5</td>\n",
       "    </tr>\n",
       "    <tr>\n",
       "      <th>60</th>\n",
       "      <td>210.7</td>\n",
       "      <td>29.5</td>\n",
       "      <td>9.3</td>\n",
       "    </tr>\n",
       "    <tr>\n",
       "      <th>...</th>\n",
       "      <td>...</td>\n",
       "      <td>...</td>\n",
       "      <td>...</td>\n",
       "    </tr>\n",
       "    <tr>\n",
       "      <th>116</th>\n",
       "      <td>75.1</td>\n",
       "      <td>35.0</td>\n",
       "      <td>52.7</td>\n",
       "    </tr>\n",
       "    <tr>\n",
       "      <th>66</th>\n",
       "      <td>69.0</td>\n",
       "      <td>9.3</td>\n",
       "      <td>0.9</td>\n",
       "    </tr>\n",
       "    <tr>\n",
       "      <th>16</th>\n",
       "      <td>195.4</td>\n",
       "      <td>47.7</td>\n",
       "      <td>52.9</td>\n",
       "    </tr>\n",
       "    <tr>\n",
       "      <th>128</th>\n",
       "      <td>80.2</td>\n",
       "      <td>0.0</td>\n",
       "      <td>9.2</td>\n",
       "    </tr>\n",
       "    <tr>\n",
       "      <th>10</th>\n",
       "      <td>199.8</td>\n",
       "      <td>2.6</td>\n",
       "      <td>21.2</td>\n",
       "    </tr>\n",
       "  </tbody>\n",
       "</table>\n",
       "<p>158 rows × 3 columns</p>\n",
       "</div>"
      ],
      "text/plain": [
       "        TV  radio  newspaper\n",
       "191   39.5   41.1        5.8\n",
       "8    120.2   19.6       11.6\n",
       "28   240.1   16.7       22.9\n",
       "139   43.0   25.9       20.5\n",
       "60   210.7   29.5        9.3\n",
       "..     ...    ...        ...\n",
       "116   75.1   35.0       52.7\n",
       "66    69.0    9.3        0.9\n",
       "16   195.4   47.7       52.9\n",
       "128   80.2    0.0        9.2\n",
       "10   199.8    2.6       21.2\n",
       "\n",
       "[158 rows x 3 columns]"
      ]
     },
     "execution_count": 28,
     "metadata": {},
     "output_type": "execute_result"
    }
   ],
   "source": [
    "X_train"
   ]
  },
  {
   "cell_type": "code",
   "execution_count": 29,
   "metadata": {
    "colab": {
     "base_uri": "https://localhost:8080/"
    },
    "executionInfo": {
     "elapsed": 11,
     "status": "ok",
     "timestamp": 1710401013891,
     "user": {
      "displayName": "NILESH NALAWADE",
      "userId": "00676888086056007575"
     },
     "user_tz": -330
    },
    "id": "tQeZ4V8wmeO1",
    "outputId": "7a0124e0-a354-490b-dc45-c95d105202b0"
   },
   "outputs": [
    {
     "data": {
      "text/plain": [
       "array([[0.12227979, 0.82862903, 0.0617284 ],\n",
       "       [0.40103627, 0.39516129, 0.12682379],\n",
       "       [0.81519862, 0.33669355, 0.25364759],\n",
       "       [0.1343696 , 0.52217742, 0.22671156],\n",
       "       [0.71364421, 0.59475806, 0.1010101 ],\n",
       "       [0.4328152 , 0.11491935, 0.34792368],\n",
       "       [0.80863558, 0.69153226, 0.05611672],\n",
       "       [0.78756477, 0.1733871 , 0.09427609],\n",
       "       [0.45630397, 0.38709677, 0.18294052],\n",
       "       [0.24594128, 0.40927419, 0.36139169],\n",
       "       [0.89395509, 0.07056452, 0.21548822],\n",
       "       [0.07253886, 0.51814516, 0.48260382],\n",
       "       [0.94231434, 0.9858871 , 0.4657688 ],\n",
       "       [0.23937824, 0.34274194, 0.14141414],\n",
       "       [0.03143351, 0.32056452, 0.55331089],\n",
       "       [0.88842832, 0.8608871 , 0.61054994],\n",
       "       [0.75405872, 0.08669355, 0.55555556],\n",
       "       [0.36511226, 0.28830645, 0.35241302],\n",
       "       [0.63488774, 0.34677419, 0.19753086],\n",
       "       [0.67599309, 0.0625    , 0.38496072],\n",
       "       [0.05284974, 0.32258065, 0.24691358],\n",
       "       [0.46217617, 0.93548387, 0.65881033],\n",
       "       [0.63454231, 0.42540323, 0.10325477],\n",
       "       [0.75958549, 0.0483871 , 0.17171717],\n",
       "       [0.72331606, 0.86693548, 0.37598204],\n",
       "       [0.73471503, 0.88508065, 0.30190797],\n",
       "       [0.56200345, 0.84677419, 0.03703704],\n",
       "       [0.42003454, 0.74395161, 0.88552189],\n",
       "       [0.80587219, 0.55443548, 0.12008979],\n",
       "       [0.46701209, 0.29233871, 0.11111111],\n",
       "       [0.41105354, 0.69758065, 0.13580247],\n",
       "       [0.77340242, 0.76008065, 0.35578002],\n",
       "       [0.31122625, 0.09879032, 0.08754209],\n",
       "       [0.28186528, 0.72177419, 0.54994388],\n",
       "       [0.45284974, 0.84072581, 0.51178451],\n",
       "       [0.31018998, 0.87701613, 0.5634119 ],\n",
       "       [0.73782383, 0.67540323, 0.65881033],\n",
       "       [0.46770294, 0.04233871, 0.29517396],\n",
       "       [0.69395509, 0.90927419, 0.21661055],\n",
       "       [1.        , 0.55846774, 0.01683502],\n",
       "       [0.81416235, 0.08266129, 0.41077441],\n",
       "       [0.90328152, 0.40322581, 0.        ],\n",
       "       [0.29084629, 0.5141129 , 0.82042649],\n",
       "       [0.21692573, 0.2358871 , 0.40965208],\n",
       "       [0.47944732, 0.59072581, 0.13804714],\n",
       "       [0.89326425, 0.58064516, 0.17508418],\n",
       "       [0.82072539, 0.76612903, 0.25701459],\n",
       "       [0.22487047, 0.41330645, 0.2020202 ],\n",
       "       [0.59274611, 0.31048387, 0.02356902],\n",
       "       [0.73333333, 0.84072581, 0.44107744],\n",
       "       [0.69084629, 0.66330645, 0.51290685],\n",
       "       [0.22210708, 0.89717742, 0.39618406],\n",
       "       [0.65319516, 0.37096774, 0.73400673],\n",
       "       [0.86252159, 0.42943548, 0.33333333],\n",
       "       [0.99758204, 0.57056452, 0.48148148],\n",
       "       [0.50915371, 0.83266129, 0.65319865],\n",
       "       [0.20103627, 0.25403226, 0.2020202 ],\n",
       "       [0.82590674, 0.98790323, 0.49382716],\n",
       "       [0.97374784, 0.28024194, 0.03815937],\n",
       "       [0.13471503, 0.53830645, 0.39057239],\n",
       "       [0.05043178, 0.24395161, 0.25925926],\n",
       "       [0.39067358, 0.29637097, 0.05723906],\n",
       "       [0.64594128, 0.57862903, 0.20089787],\n",
       "       [0.29568221, 0.19959677, 0.3973064 ],\n",
       "       [0.0148532 , 0.5483871 , 0.02020202],\n",
       "       [0.9865285 , 0.85282258, 0.57126824],\n",
       "       [0.70984456, 0.41532258, 0.11672278],\n",
       "       [0.70051813, 0.16935484, 0.29292929],\n",
       "       [0.19170984, 0.24193548, 0.48035915],\n",
       "       [0.90189983, 0.05846774, 0.47923681],\n",
       "       [0.24974093, 0.53830645, 0.24691358],\n",
       "       [0.79585492, 0.06854839, 0.94837262],\n",
       "       [0.57374784, 0.15725806, 0.39169473],\n",
       "       [0.1402418 , 0.52016129, 0.22783389],\n",
       "       [0.7298791 , 0.47580645, 0.64309764],\n",
       "       [0.06804836, 0.70766129, 0.7362514 ],\n",
       "       [0.25595855, 0.94354839, 0.38383838],\n",
       "       [0.72746114, 0.48387097, 0.04152637],\n",
       "       [0.77443869, 0.34072581, 0.29068462],\n",
       "       [0.03108808, 0.00806452, 0.28395062],\n",
       "       [0.24939551, 0.55443548, 0.17620651],\n",
       "       [0.81519862, 0.14717742, 0.09427609],\n",
       "       [0.18445596, 0.66129032, 0.26038159],\n",
       "       [0.15854922, 0.23387097, 0.20314254],\n",
       "       [0.74507772, 0.67540323, 0.50280584],\n",
       "       [0.55405872, 0.42137097, 0.52861953],\n",
       "       [0.11709845, 0.8125    , 0.1301908 ],\n",
       "       [0.07219344, 0.22177419, 0.32996633],\n",
       "       [0.98998273, 0.08266129, 0.09203143],\n",
       "       [0.76580311, 0.16532258, 0.63075196],\n",
       "       [0.33264249, 0.19354839, 0.03703704],\n",
       "       [0.11329879, 0.77822581, 0.7328844 ],\n",
       "       [0.31813472, 0.2983871 , 0.4332211 ],\n",
       "       [0.47046632, 0.03830645, 0.0976431 ],\n",
       "       [0.61036269, 0.21774194, 0.65207632],\n",
       "       [0.15267703, 0.94758065, 0.09203143],\n",
       "       [0.59067358, 0.45362903, 0.35016835],\n",
       "       [0.62452504, 0.4233871 , 0.24354658],\n",
       "       [0.84386874, 0.60887097, 0.22446689],\n",
       "       [0.22970639, 0.32258065, 0.45454545],\n",
       "       [0.93126079, 0.58266129, 0.66666667],\n",
       "       [0.40379965, 0.16935484, 0.54320988],\n",
       "       [0.52677029, 0.05241935, 0.08978676],\n",
       "       [0.07841105, 0.66532258, 0.21324355],\n",
       "       [0.47392055, 0.54032258, 0.51515152],\n",
       "       [0.50328152, 0.02620968, 0.26936027],\n",
       "       [0.59723661, 0.1875    , 0.0684624 ],\n",
       "       [0.62452504, 0.88508065, 0.01571268],\n",
       "       [0.04421416, 0.88104839, 1.        ],\n",
       "       [0.17996546, 0.11491935, 0.32996633],\n",
       "       [0.54991364, 0.63709677, 0.59034792],\n",
       "       [0.5775475 , 0.80040323, 0.41975309],\n",
       "       [0.66839378, 0.46975806, 0.15600449],\n",
       "       [0.56753022, 0.14314516, 0.14029181],\n",
       "       [0.35682211, 0.28225806, 0.11896745],\n",
       "       [0.49464594, 0.48185484, 0.21099888],\n",
       "       [0.84525043, 0.54637097, 0.25364759],\n",
       "       [0.24386874, 0.99596774, 0.50953984],\n",
       "       [0.71398964, 1.        , 0.41975309],\n",
       "       [0.32158895, 0.03024194, 0.33333333],\n",
       "       [0.09464594, 0.49596774, 0.02132435],\n",
       "       [0.74749568, 0.66935484, 0.42199776],\n",
       "       [0.44974093, 0.09879032, 0.1010101 ],\n",
       "       [0.58169257, 0.36491935, 0.34118967],\n",
       "       [0.37582038, 0.35080645, 0.4298541 ],\n",
       "       [0.36822107, 0.81854839, 0.70594837],\n",
       "       [0.85250432, 0.7358871 , 0.80808081],\n",
       "       [0.34715026, 0.11491935, 0.38271605],\n",
       "       [0.74680484, 0.98790323, 0.0325477 ],\n",
       "       [0.        , 0.23387097, 0.06060606],\n",
       "       [0.32262522, 0.15322581, 0.07744108],\n",
       "       [0.0044905 , 0.60282258, 0.10213244],\n",
       "       [0.74058722, 0.10887097, 0.30415264],\n",
       "       [0.97927461, 0.86693548, 0.80246914],\n",
       "       [0.3164076 , 0.02822581, 0.07968575],\n",
       "       [0.34058722, 0.59677419, 0.09090909],\n",
       "       [0.77858377, 0.65120968, 0.82940516],\n",
       "       [0.86804836, 0.54233871, 0.05836139],\n",
       "       [0.36511226, 0.96370968, 0.57351291],\n",
       "       [0.67288428, 0.99596774, 0.67003367],\n",
       "       [0.65492228, 0.71370968, 0.84511785],\n",
       "       [0.9537133 , 0.20362903, 0.23681257],\n",
       "       [0.95785838, 0.7983871 , 0.62289562],\n",
       "       [0.24974093, 0.01612903, 0.1627385 ],\n",
       "       [0.04766839, 0.75806452, 0.23905724],\n",
       "       [0.59723661, 0.6733871 , 0.43097643],\n",
       "       [0.7806563 , 0.76209677, 0.77328844],\n",
       "       [0.72297064, 0.49596774, 0.14365881],\n",
       "       [0.01554404, 0.04233871, 0.00785634],\n",
       "       [0.11778929, 0.07459677, 0.15151515],\n",
       "       [0.44075993, 0.37096774, 0.38496072],\n",
       "       [0.02625216, 0.74395161, 0.50392817],\n",
       "       [0.28704663, 0.23790323, 0.28731762],\n",
       "       [0.24525043, 0.70564516, 0.58810325],\n",
       "       [0.22417962, 0.1875    , 0.00673401],\n",
       "       [0.66079447, 0.96169355, 0.59034792],\n",
       "       [0.26286701, 0.        , 0.09988777],\n",
       "       [0.67599309, 0.05241935, 0.2345679 ]])"
      ]
     },
     "execution_count": 29,
     "metadata": {},
     "output_type": "execute_result"
    }
   ],
   "source": [
    "X_train_scale"
   ]
  },
  {
   "cell_type": "code",
   "execution_count": 30,
   "metadata": {
    "colab": {
     "base_uri": "https://localhost:8080/",
     "height": 74
    },
    "executionInfo": {
     "elapsed": 862,
     "status": "ok",
     "timestamp": 1710401014743,
     "user": {
      "displayName": "NILESH NALAWADE",
      "userId": "00676888086056007575"
     },
     "user_tz": -330
    },
    "id": "gROgoJ2MmeO1",
    "outputId": "5d2ca792-75cc-4ed5-d8ba-e7bbf02f6b49"
   },
   "outputs": [
    {
     "data": {
      "text/plain": [
       "LinearRegression()"
      ]
     },
     "execution_count": 30,
     "metadata": {},
     "output_type": "execute_result"
    }
   ],
   "source": [
    "from sklearn.linear_model import LinearRegression\n",
    "\n",
    "# creat a model object\n",
    "lm = LinearRegression()\n",
    "\n",
    "# train the model object\n",
    "lm.fit(X_train_scale, y_train)"
   ]
  },
  {
   "cell_type": "code",
   "execution_count": 31,
   "metadata": {
    "colab": {
     "base_uri": "https://localhost:8080/"
    },
    "executionInfo": {
     "elapsed": 12,
     "status": "ok",
     "timestamp": 1710401014743,
     "user": {
      "displayName": "NILESH NALAWADE",
      "userId": "00676888086056007575"
     },
     "user_tz": -330
    },
    "id": "LuRMEYQVmeO1",
    "outputId": "62d8e782-9b32-4672-afa7-574f7c00b812"
   },
   "outputs": [
    {
     "name": "stdout",
     "output_type": "stream",
     "text": [
      "[ 5.81196152 13.15777516 14.55999123 16.69782198 20.29903033 18.2180512\n",
      " 14.96631713  8.95008742 17.92429691 12.93493198  7.10928558  7.12345018\n",
      "  4.58234743 17.54679271 15.74437291 17.32092427 12.34832249  9.70503063\n",
      "  8.20124107 12.46682331 18.22822012 10.90209645 16.70467352 13.22264367\n",
      " 11.11705445  8.51101814 11.88517331 12.81403747 16.25015901  7.88872253\n",
      "  4.63158079 16.42627172 14.00982842  4.62278715 23.50192151 12.03884611\n",
      " 23.94201719 17.70591101 21.86563011 13.55058539]\n"
     ]
    }
   ],
   "source": [
    "y_pred=lm.predict(X_test_scale)\n",
    "print(y_pred)"
   ]
  },
  {
   "cell_type": "code",
   "execution_count": 32,
   "metadata": {
    "colab": {
     "base_uri": "https://localhost:8080/"
    },
    "executionInfo": {
     "elapsed": 10,
     "status": "ok",
     "timestamp": 1710401014743,
     "user": {
      "displayName": "NILESH NALAWADE",
      "userId": "00676888086056007575"
     },
     "user_tz": -330
    },
    "id": "P7FLe1NvmeO1",
    "outputId": "64089676-8414-4add-f840-671ed2b17ff6"
   },
   "outputs": [
    {
     "name": "stdout",
     "output_type": "stream",
     "text": [
      "R Square:  0.7847276428213541\n",
      "Adjusted R Square:  0.7813986888443647\n",
      "RMSE:  2.5440647933859015\n"
     ]
    }
   ],
   "source": [
    "r2=r2_score(y_test,y_pred)\n",
    "print(\"R Square: \", r2)\n",
    "\n",
    "adjusted_r_squared = 1 - (1-r2)*(len(y)-1)/(len(y)-X.shape[1]-1)\n",
    "print(\"Adjusted R Square: \", adjusted_r_squared)\n",
    "\n",
    "rmse=np.sqrt(mean_squared_error(y_test,y_pred))\n",
    "print(\"RMSE: \", rmse)"
   ]
  },
  {
   "cell_type": "code",
   "execution_count": 33,
   "metadata": {
    "colab": {
     "base_uri": "https://localhost:8080/"
    },
    "executionInfo": {
     "elapsed": 9,
     "status": "ok",
     "timestamp": 1710401014743,
     "user": {
      "displayName": "NILESH NALAWADE",
      "userId": "00676888086056007575"
     },
     "user_tz": -330
    },
    "id": "Qc8DNGoZmeO2",
    "outputId": "6a8f296f-0ba7-4a26-b09e-1d699f1fa4c8"
   },
   "outputs": [
    {
     "name": "stdout",
     "output_type": "stream",
     "text": [
      "3.2118269525797043\n",
      "[('TV', 12.80299298944288), ('radio', 9.810691754853668), ('newspaper', 0.0838292494434798)]\n"
     ]
    }
   ],
   "source": [
    "print (lm.intercept_)\n",
    "print(list(zip(feature_cols, lm.coef_)))"
   ]
  },
  {
   "cell_type": "code",
   "execution_count": 34,
   "metadata": {
    "colab": {
     "base_uri": "https://localhost:8080/",
     "height": 1000
    },
    "executionInfo": {
     "elapsed": 8,
     "status": "ok",
     "timestamp": 1710401014743,
     "user": {
      "displayName": "NILESH NALAWADE",
      "userId": "00676888086056007575"
     },
     "user_tz": -330
    },
    "id": "IBVDKRy6meO2",
    "outputId": "926056a7-1d2b-42dc-83ef-8f0294565a12"
   },
   "outputs": [
    {
     "data": {
      "text/html": [
       "<div>\n",
       "<style scoped>\n",
       "    .dataframe tbody tr th:only-of-type {\n",
       "        vertical-align: middle;\n",
       "    }\n",
       "\n",
       "    .dataframe tbody tr th {\n",
       "        vertical-align: top;\n",
       "    }\n",
       "\n",
       "    .dataframe thead th {\n",
       "        text-align: right;\n",
       "    }\n",
       "</style>\n",
       "<table border=\"1\" class=\"dataframe\">\n",
       "  <thead>\n",
       "    <tr style=\"text-align: right;\">\n",
       "      <th></th>\n",
       "      <th>TV</th>\n",
       "      <th>radio</th>\n",
       "      <th>newspaper</th>\n",
       "      <th>Actual Sales</th>\n",
       "      <th>Predicted Sales</th>\n",
       "    </tr>\n",
       "  </thead>\n",
       "  <tbody>\n",
       "    <tr>\n",
       "      <th>61</th>\n",
       "      <td>53.5</td>\n",
       "      <td>2.0</td>\n",
       "      <td>21.4</td>\n",
       "      <td>8.1</td>\n",
       "      <td>5.811962</td>\n",
       "    </tr>\n",
       "    <tr>\n",
       "      <th>6</th>\n",
       "      <td>8.7</td>\n",
       "      <td>48.9</td>\n",
       "      <td>75.0</td>\n",
       "      <td>7.2</td>\n",
       "      <td>13.157775</td>\n",
       "    </tr>\n",
       "    <tr>\n",
       "      <th>22</th>\n",
       "      <td>237.4</td>\n",
       "      <td>5.1</td>\n",
       "      <td>23.5</td>\n",
       "      <td>12.5</td>\n",
       "      <td>14.559991</td>\n",
       "    </tr>\n",
       "    <tr>\n",
       "      <th>195</th>\n",
       "      <td>149.7</td>\n",
       "      <td>35.6</td>\n",
       "      <td>6.0</td>\n",
       "      <td>17.3</td>\n",
       "      <td>16.697822</td>\n",
       "    </tr>\n",
       "    <tr>\n",
       "      <th>54</th>\n",
       "      <td>182.6</td>\n",
       "      <td>46.2</td>\n",
       "      <td>58.7</td>\n",
       "      <td>21.2</td>\n",
       "      <td>20.299030</td>\n",
       "    </tr>\n",
       "    <tr>\n",
       "      <th>21</th>\n",
       "      <td>218.4</td>\n",
       "      <td>27.7</td>\n",
       "      <td>53.4</td>\n",
       "      <td>18.0</td>\n",
       "      <td>18.218051</td>\n",
       "    </tr>\n",
       "    <tr>\n",
       "      <th>163</th>\n",
       "      <td>188.4</td>\n",
       "      <td>18.1</td>\n",
       "      <td>25.6</td>\n",
       "      <td>14.9</td>\n",
       "      <td>14.966317</td>\n",
       "    </tr>\n",
       "    <tr>\n",
       "      <th>57</th>\n",
       "      <td>7.3</td>\n",
       "      <td>28.1</td>\n",
       "      <td>41.4</td>\n",
       "      <td>5.5</td>\n",
       "      <td>8.950087</td>\n",
       "    </tr>\n",
       "    <tr>\n",
       "      <th>71</th>\n",
       "      <td>199.1</td>\n",
       "      <td>30.6</td>\n",
       "      <td>38.7</td>\n",
       "      <td>18.3</td>\n",
       "      <td>17.924297</td>\n",
       "    </tr>\n",
       "    <tr>\n",
       "      <th>3</th>\n",
       "      <td>17.2</td>\n",
       "      <td>45.9</td>\n",
       "      <td>69.3</td>\n",
       "      <td>9.3</td>\n",
       "      <td>12.934932</td>\n",
       "    </tr>\n",
       "    <tr>\n",
       "      <th>108</th>\n",
       "      <td>90.4</td>\n",
       "      <td>0.3</td>\n",
       "      <td>23.2</td>\n",
       "      <td>8.7</td>\n",
       "      <td>7.109286</td>\n",
       "    </tr>\n",
       "    <tr>\n",
       "      <th>11</th>\n",
       "      <td>66.1</td>\n",
       "      <td>5.8</td>\n",
       "      <td>24.2</td>\n",
       "      <td>8.6</td>\n",
       "      <td>7.123450</td>\n",
       "    </tr>\n",
       "    <tr>\n",
       "      <th>77</th>\n",
       "      <td>27.5</td>\n",
       "      <td>1.6</td>\n",
       "      <td>20.7</td>\n",
       "      <td>6.9</td>\n",
       "      <td>4.582347</td>\n",
       "    </tr>\n",
       "    <tr>\n",
       "      <th>164</th>\n",
       "      <td>163.5</td>\n",
       "      <td>36.8</td>\n",
       "      <td>7.4</td>\n",
       "      <td>18.0</td>\n",
       "      <td>17.546793</td>\n",
       "    </tr>\n",
       "    <tr>\n",
       "      <th>179</th>\n",
       "      <td>276.7</td>\n",
       "      <td>2.3</td>\n",
       "      <td>23.7</td>\n",
       "      <td>11.8</td>\n",
       "      <td>15.744373</td>\n",
       "    </tr>\n",
       "    <tr>\n",
       "      <th>65</th>\n",
       "      <td>131.1</td>\n",
       "      <td>42.8</td>\n",
       "      <td>28.9</td>\n",
       "      <td>18.0</td>\n",
       "      <td>17.320924</td>\n",
       "    </tr>\n",
       "    <tr>\n",
       "      <th>180</th>\n",
       "      <td>165.6</td>\n",
       "      <td>10.0</td>\n",
       "      <td>17.6</td>\n",
       "      <td>12.6</td>\n",
       "      <td>12.348322</td>\n",
       "    </tr>\n",
       "    <tr>\n",
       "      <th>80</th>\n",
       "      <td>116.0</td>\n",
       "      <td>7.7</td>\n",
       "      <td>23.1</td>\n",
       "      <td>11.0</td>\n",
       "      <td>9.705031</td>\n",
       "    </tr>\n",
       "    <tr>\n",
       "      <th>122</th>\n",
       "      <td>18.8</td>\n",
       "      <td>21.7</td>\n",
       "      <td>50.4</td>\n",
       "      <td>7.0</td>\n",
       "      <td>8.201241</td>\n",
       "    </tr>\n",
       "    <tr>\n",
       "      <th>97</th>\n",
       "      <td>197.6</td>\n",
       "      <td>3.5</td>\n",
       "      <td>5.9</td>\n",
       "      <td>11.7</td>\n",
       "      <td>12.466823</td>\n",
       "    </tr>\n",
       "    <tr>\n",
       "      <th>151</th>\n",
       "      <td>280.7</td>\n",
       "      <td>13.9</td>\n",
       "      <td>37.0</td>\n",
       "      <td>16.1</td>\n",
       "      <td>18.228220</td>\n",
       "    </tr>\n",
       "    <tr>\n",
       "      <th>131</th>\n",
       "      <td>0.7</td>\n",
       "      <td>39.6</td>\n",
       "      <td>8.7</td>\n",
       "      <td>1.6</td>\n",
       "      <td>10.902096</td>\n",
       "    </tr>\n",
       "    <tr>\n",
       "      <th>63</th>\n",
       "      <td>239.3</td>\n",
       "      <td>15.5</td>\n",
       "      <td>27.3</td>\n",
       "      <td>15.7</td>\n",
       "      <td>16.704674</td>\n",
       "    </tr>\n",
       "    <tr>\n",
       "      <th>168</th>\n",
       "      <td>206.8</td>\n",
       "      <td>5.2</td>\n",
       "      <td>19.4</td>\n",
       "      <td>12.2</td>\n",
       "      <td>13.222644</td>\n",
       "    </tr>\n",
       "    <tr>\n",
       "      <th>127</th>\n",
       "      <td>7.8</td>\n",
       "      <td>38.9</td>\n",
       "      <td>50.6</td>\n",
       "      <td>6.6</td>\n",
       "      <td>11.117054</td>\n",
       "    </tr>\n",
       "    <tr>\n",
       "      <th>192</th>\n",
       "      <td>75.5</td>\n",
       "      <td>10.8</td>\n",
       "      <td>6.0</td>\n",
       "      <td>9.9</td>\n",
       "      <td>8.511018</td>\n",
       "    </tr>\n",
       "    <tr>\n",
       "      <th>137</th>\n",
       "      <td>25.6</td>\n",
       "      <td>39.0</td>\n",
       "      <td>9.3</td>\n",
       "      <td>9.5</td>\n",
       "      <td>11.885173</td>\n",
       "    </tr>\n",
       "    <tr>\n",
       "      <th>2</th>\n",
       "      <td>44.5</td>\n",
       "      <td>39.3</td>\n",
       "      <td>45.1</td>\n",
       "      <td>10.4</td>\n",
       "      <td>12.814037</td>\n",
       "    </tr>\n",
       "    <tr>\n",
       "      <th>49</th>\n",
       "      <td>227.2</td>\n",
       "      <td>15.8</td>\n",
       "      <td>49.9</td>\n",
       "      <td>14.8</td>\n",
       "      <td>16.250159</td>\n",
       "    </tr>\n",
       "    <tr>\n",
       "      <th>173</th>\n",
       "      <td>19.6</td>\n",
       "      <td>20.1</td>\n",
       "      <td>17.0</td>\n",
       "      <td>7.6</td>\n",
       "      <td>7.888723</td>\n",
       "    </tr>\n",
       "    <tr>\n",
       "      <th>193</th>\n",
       "      <td>17.2</td>\n",
       "      <td>4.1</td>\n",
       "      <td>31.6</td>\n",
       "      <td>5.9</td>\n",
       "      <td>4.631581</td>\n",
       "    </tr>\n",
       "    <tr>\n",
       "      <th>41</th>\n",
       "      <td>202.5</td>\n",
       "      <td>22.3</td>\n",
       "      <td>31.6</td>\n",
       "      <td>16.6</td>\n",
       "      <td>16.426272</td>\n",
       "    </tr>\n",
       "    <tr>\n",
       "      <th>78</th>\n",
       "      <td>120.5</td>\n",
       "      <td>28.5</td>\n",
       "      <td>14.2</td>\n",
       "      <td>14.2</td>\n",
       "      <td>14.009828</td>\n",
       "    </tr>\n",
       "    <tr>\n",
       "      <th>92</th>\n",
       "      <td>28.6</td>\n",
       "      <td>1.5</td>\n",
       "      <td>33.0</td>\n",
       "      <td>7.3</td>\n",
       "      <td>4.622787</td>\n",
       "    </tr>\n",
       "    <tr>\n",
       "      <th>37</th>\n",
       "      <td>266.9</td>\n",
       "      <td>43.8</td>\n",
       "      <td>5.0</td>\n",
       "      <td>25.4</td>\n",
       "      <td>23.501922</td>\n",
       "    </tr>\n",
       "    <tr>\n",
       "      <th>117</th>\n",
       "      <td>139.2</td>\n",
       "      <td>14.3</td>\n",
       "      <td>25.6</td>\n",
       "      <td>12.2</td>\n",
       "      <td>12.038846</td>\n",
       "    </tr>\n",
       "    <tr>\n",
       "      <th>199</th>\n",
       "      <td>283.6</td>\n",
       "      <td>42.0</td>\n",
       "      <td>66.2</td>\n",
       "      <td>25.5</td>\n",
       "      <td>23.942017</td>\n",
       "    </tr>\n",
       "    <tr>\n",
       "      <th>170</th>\n",
       "      <td>284.3</td>\n",
       "      <td>10.6</td>\n",
       "      <td>6.4</td>\n",
       "      <td>15.0</td>\n",
       "      <td>17.705911</td>\n",
       "    </tr>\n",
       "    <tr>\n",
       "      <th>48</th>\n",
       "      <td>239.9</td>\n",
       "      <td>41.5</td>\n",
       "      <td>18.5</td>\n",
       "      <td>23.2</td>\n",
       "      <td>21.865630</td>\n",
       "    </tr>\n",
       "    <tr>\n",
       "      <th>175</th>\n",
       "      <td>222.4</td>\n",
       "      <td>3.4</td>\n",
       "      <td>13.1</td>\n",
       "      <td>11.5</td>\n",
       "      <td>13.550585</td>\n",
       "    </tr>\n",
       "  </tbody>\n",
       "</table>\n",
       "</div>"
      ],
      "text/plain": [
       "        TV  radio  newspaper  Actual Sales  Predicted Sales\n",
       "61    53.5    2.0       21.4           8.1         5.811962\n",
       "6      8.7   48.9       75.0           7.2        13.157775\n",
       "22   237.4    5.1       23.5          12.5        14.559991\n",
       "195  149.7   35.6        6.0          17.3        16.697822\n",
       "54   182.6   46.2       58.7          21.2        20.299030\n",
       "21   218.4   27.7       53.4          18.0        18.218051\n",
       "163  188.4   18.1       25.6          14.9        14.966317\n",
       "57     7.3   28.1       41.4           5.5         8.950087\n",
       "71   199.1   30.6       38.7          18.3        17.924297\n",
       "3     17.2   45.9       69.3           9.3        12.934932\n",
       "108   90.4    0.3       23.2           8.7         7.109286\n",
       "11    66.1    5.8       24.2           8.6         7.123450\n",
       "77    27.5    1.6       20.7           6.9         4.582347\n",
       "164  163.5   36.8        7.4          18.0        17.546793\n",
       "179  276.7    2.3       23.7          11.8        15.744373\n",
       "65   131.1   42.8       28.9          18.0        17.320924\n",
       "180  165.6   10.0       17.6          12.6        12.348322\n",
       "80   116.0    7.7       23.1          11.0         9.705031\n",
       "122   18.8   21.7       50.4           7.0         8.201241\n",
       "97   197.6    3.5        5.9          11.7        12.466823\n",
       "151  280.7   13.9       37.0          16.1        18.228220\n",
       "131    0.7   39.6        8.7           1.6        10.902096\n",
       "63   239.3   15.5       27.3          15.7        16.704674\n",
       "168  206.8    5.2       19.4          12.2        13.222644\n",
       "127    7.8   38.9       50.6           6.6        11.117054\n",
       "192   75.5   10.8        6.0           9.9         8.511018\n",
       "137   25.6   39.0        9.3           9.5        11.885173\n",
       "2     44.5   39.3       45.1          10.4        12.814037\n",
       "49   227.2   15.8       49.9          14.8        16.250159\n",
       "173   19.6   20.1       17.0           7.6         7.888723\n",
       "193   17.2    4.1       31.6           5.9         4.631581\n",
       "41   202.5   22.3       31.6          16.6        16.426272\n",
       "78   120.5   28.5       14.2          14.2        14.009828\n",
       "92    28.6    1.5       33.0           7.3         4.622787\n",
       "37   266.9   43.8        5.0          25.4        23.501922\n",
       "117  139.2   14.3       25.6          12.2        12.038846\n",
       "199  283.6   42.0       66.2          25.5        23.942017\n",
       "170  284.3   10.6        6.4          15.0        17.705911\n",
       "48   239.9   41.5       18.5          23.2        21.865630\n",
       "175  222.4    3.4       13.1          11.5        13.550585"
      ]
     },
     "execution_count": 34,
     "metadata": {},
     "output_type": "execute_result"
    }
   ],
   "source": [
    "new_df = pd.DataFrame()\n",
    "new_df = X_test\n",
    "\n",
    "new_df[\"Actual Sales\"] = y_test\n",
    "new_df[\"Predicted Sales\"] = y_pred\n",
    "new_df"
   ]
  },
  {
   "cell_type": "code",
   "execution_count": 35,
   "metadata": {
    "colab": {
     "base_uri": "https://localhost:8080/",
     "height": 206
    },
    "executionInfo": {
     "elapsed": 7,
     "status": "ok",
     "timestamp": 1710401014743,
     "user": {
      "displayName": "NILESH NALAWADE",
      "userId": "00676888086056007575"
     },
     "user_tz": -330
    },
    "id": "yf5XuzMrmeO2",
    "outputId": "2b987de6-ea6e-414d-a7ed-7e658f741d6f"
   },
   "outputs": [
    {
     "data": {
      "text/html": [
       "<div>\n",
       "<style scoped>\n",
       "    .dataframe tbody tr th:only-of-type {\n",
       "        vertical-align: middle;\n",
       "    }\n",
       "\n",
       "    .dataframe tbody tr th {\n",
       "        vertical-align: top;\n",
       "    }\n",
       "\n",
       "    .dataframe thead th {\n",
       "        text-align: right;\n",
       "    }\n",
       "</style>\n",
       "<table border=\"1\" class=\"dataframe\">\n",
       "  <thead>\n",
       "    <tr style=\"text-align: right;\">\n",
       "      <th></th>\n",
       "      <th>TV</th>\n",
       "      <th>radio</th>\n",
       "      <th>newspaper</th>\n",
       "      <th>Actual Sales</th>\n",
       "      <th>Predicted Sales</th>\n",
       "      <th>Deviation</th>\n",
       "    </tr>\n",
       "  </thead>\n",
       "  <tbody>\n",
       "    <tr>\n",
       "      <th>61</th>\n",
       "      <td>53.5</td>\n",
       "      <td>2.0</td>\n",
       "      <td>21.4</td>\n",
       "      <td>8.1</td>\n",
       "      <td>5.811962</td>\n",
       "      <td>2.288038</td>\n",
       "    </tr>\n",
       "    <tr>\n",
       "      <th>6</th>\n",
       "      <td>8.7</td>\n",
       "      <td>48.9</td>\n",
       "      <td>75.0</td>\n",
       "      <td>7.2</td>\n",
       "      <td>13.157775</td>\n",
       "      <td>-5.957775</td>\n",
       "    </tr>\n",
       "    <tr>\n",
       "      <th>22</th>\n",
       "      <td>237.4</td>\n",
       "      <td>5.1</td>\n",
       "      <td>23.5</td>\n",
       "      <td>12.5</td>\n",
       "      <td>14.559991</td>\n",
       "      <td>-2.059991</td>\n",
       "    </tr>\n",
       "    <tr>\n",
       "      <th>195</th>\n",
       "      <td>149.7</td>\n",
       "      <td>35.6</td>\n",
       "      <td>6.0</td>\n",
       "      <td>17.3</td>\n",
       "      <td>16.697822</td>\n",
       "      <td>0.602178</td>\n",
       "    </tr>\n",
       "    <tr>\n",
       "      <th>54</th>\n",
       "      <td>182.6</td>\n",
       "      <td>46.2</td>\n",
       "      <td>58.7</td>\n",
       "      <td>21.2</td>\n",
       "      <td>20.299030</td>\n",
       "      <td>0.900970</td>\n",
       "    </tr>\n",
       "  </tbody>\n",
       "</table>\n",
       "</div>"
      ],
      "text/plain": [
       "        TV  radio  newspaper  Actual Sales  Predicted Sales  Deviation\n",
       "61    53.5    2.0       21.4           8.1         5.811962   2.288038\n",
       "6      8.7   48.9       75.0           7.2        13.157775  -5.957775\n",
       "22   237.4    5.1       23.5          12.5        14.559991  -2.059991\n",
       "195  149.7   35.6        6.0          17.3        16.697822   0.602178\n",
       "54   182.6   46.2       58.7          21.2        20.299030   0.900970"
      ]
     },
     "execution_count": 35,
     "metadata": {},
     "output_type": "execute_result"
    }
   ],
   "source": [
    "new_df[\"Deviation\"] = new_df[\"Actual Sales\"] - new_df[\"Predicted Sales\"]\n",
    "new_df.to_csv(\"Advertising_Pred.csv\", header=True, index=False)\n",
    "new_df.head()"
   ]
  },
  {
   "cell_type": "code",
   "execution_count": 37,
   "metadata": {
    "colab": {
     "base_uri": "https://localhost:8080/",
     "height": 626
    },
    "executionInfo": {
     "elapsed": 8538,
     "status": "ok",
     "timestamp": 1710401052049,
     "user": {
      "displayName": "NILESH NALAWADE",
      "userId": "00676888086056007575"
     },
     "user_tz": -330
    },
    "id": "quAaBWKumeO2",
    "outputId": "46fe36dd-10fa-42b2-a6ca-290b15ed2df3"
   },
   "outputs": [
    {
     "name": "stdout",
     "output_type": "stream",
     "text": [
      "Running on local URL:  http://127.0.0.1:7861\n",
      "\n",
      "To create a public link, set `share=True` in `launch()`.\n"
     ]
    },
    {
     "data": {
      "text/html": [
       "<div><iframe src=\"http://127.0.0.1:7861/\" width=\"100%\" height=\"500\" allow=\"autoplay; camera; microphone; clipboard-read; clipboard-write;\" frameborder=\"0\" allowfullscreen></iframe></div>"
      ],
      "text/plain": [
       "<IPython.core.display.HTML object>"
      ]
     },
     "metadata": {},
     "output_type": "display_data"
    },
    {
     "data": {
      "text/plain": []
     },
     "execution_count": 37,
     "metadata": {},
     "output_type": "execute_result"
    }
   ],
   "source": [
    "import gradio as gr\n",
    "\n",
    "#train your Linear Regression model\n",
    "lm = LinearRegression()\n",
    "lm.fit(X_train_scale, y_train)\n",
    "\n",
    "# Define prediction function\n",
    "def predict_sales(tv, radio, newspaper):\n",
    "    # Scale the input features\n",
    "    input_features = scaler.transform([[tv, radio, newspaper]])\n",
    "    # Predict sales\n",
    "    prediction = lm.predict(input_features)\n",
    "    return prediction[0]\n",
    "\n",
    "\n",
    "# Create Gradio Interface\n",
    "tv_input = gr.Number(label=\"TV\")\n",
    "radio_input = gr.Number(label=\"Radio\")\n",
    "newspaper_input = gr.Number(label=\"Newspaper\")\n",
    "output_text = gr.Textbox(label=\"Predicted Sales\")\n",
    "\n",
    "gr.Interface(fn=predict_sales,\n",
    "             inputs=[tv_input, radio_input, newspaper_input],\n",
    "             outputs=output_text,\n",
    "             title=\"Sales Prediction\",\n",
    "             description=\"Enter advertising expenses to predict sales\").launch()"
   ]
  },
  {
   "cell_type": "code",
   "execution_count": null,
   "metadata": {
    "executionInfo": {
     "elapsed": 7,
     "status": "ok",
     "timestamp": 1710401052049,
     "user": {
      "displayName": "NILESH NALAWADE",
      "userId": "00676888086056007575"
     },
     "user_tz": -330
    },
    "id": "CjZ3VMGfmeO3"
   },
   "outputs": [],
   "source": []
  }
 ],
 "metadata": {
  "colab": {
   "provenance": []
  },
  "kernelspec": {
   "display_name": "Python 3",
   "language": "python",
   "name": "python3"
  },
  "language_info": {
   "codemirror_mode": {
    "name": "ipython",
    "version": 3
   },
   "file_extension": ".py",
   "mimetype": "text/x-python",
   "name": "python",
   "nbconvert_exporter": "python",
   "pygments_lexer": "ipython3",
   "version": "3.7.6"
  }
 },
 "nbformat": 4,
 "nbformat_minor": 1
}
